{
  "nbformat": 4,
  "nbformat_minor": 0,
  "metadata": {
    "colab": {
      "provenance": [],
      "authorship_tag": "ABX9TyPtjYpM58ar0lDx6TVlvyBn",
      "include_colab_link": true
    },
    "kernelspec": {
      "name": "python3",
      "display_name": "Python 3"
    },
    "language_info": {
      "name": "python"
    }
  },
  "cells": [
    {
      "cell_type": "markdown",
      "metadata": {
        "id": "view-in-github",
        "colab_type": "text"
      },
      "source": [
        "<a href=\"https://colab.research.google.com/github/adiyatma1324/BMI-Formula-python-adiyatma-polines/blob/main/BMI_adiyatma_POLINES.ipynb\" target=\"_parent\"><img src=\"https://colab.research.google.com/assets/colab-badge.svg\" alt=\"Open In Colab\"/></a>"
      ]
    },
    {
      "cell_type": "code",
      "execution_count": 5,
      "metadata": {
        "colab": {
          "base_uri": "https://localhost:8080/"
        },
        "id": "Iu4auVJznzY-",
        "outputId": "9491ccb9-d8c7-4af9-b85f-39ead394d618"
      },
      "outputs": [
        {
          "output_type": "stream",
          "name": "stdout",
          "text": [
            "Masukkan berat (kg): 65\n",
            "Masukkan tinggi (m): 1.73\n",
            "BMI Anda: 18.79\n",
            "Kategori: Normal\n"
          ]
        }
      ],
      "source": [
        "berat = float(input(\"Masukkan berat (kg): \"))\n",
        "tinggi = float(input(\"Masukkan tinggi (m): \"))\n",
        "\n",
        "if berat <= 0 or tinggi <= 0:\n",
        "    print(\"Input tidak valid: berat dan tinggi harus > 0.\")\n",
        "else:\n",
        "    bmi = berat / (tinggi*2)\n",
        "    print(f\"BMI Anda: {bmi:.2f}\")\n",
        "\n",
        "    if bmi < 18.5:\n",
        "        kategori = \"Underweight (Kurus)\"\n",
        "    elif 18.5 <= bmi and bmi < 25:\n",
        "        kategori = \"Normal\"\n",
        "    elif 25 <= bmi and bmi < 30:\n",
        "        kategori = \"Overweight (Berlebih)\"\n",
        "    else:\n",
        "\n",
        "        if 30 <= bmi and bmi < 35:\n",
        "            kategori = \"Obesity Class I\"\n",
        "        elif 35 <= bmi and bmi < 40:\n",
        "            kategori = \"Obesity Class II\"\n",
        "        else:  # bmi >= 40\n",
        "            kategori = \"Obesity Class III (Severe)\"\n",
        "\n",
        "    print(\"Kategori:\", kategori)\n"
      ]
    }
  ]
}